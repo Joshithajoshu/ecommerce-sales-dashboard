{
  "nbformat": 4,
  "nbformat_minor": 0,
  "metadata": {
    "colab": {
      "provenance": [],
      "authorship_tag": "ABX9TyMYWBLo6uSqzup3cDycKErp",
      "include_colab_link": true
    },
    "kernelspec": {
      "name": "python3",
      "display_name": "Python 3"
    },
    "language_info": {
      "name": "python"
    }
  },
  "cells": [
    {
      "cell_type": "markdown",
      "metadata": {
        "id": "view-in-github",
        "colab_type": "text"
      },
      "source": [
        "<a href=\"https://colab.research.google.com/github/Joshithajoshu/ecommerce-sales-dashboard/blob/main/introductive_session_.ipynb\" target=\"_parent\"><img src=\"https://colab.research.google.com/assets/colab-badge.svg\" alt=\"Open In Colab\"/></a>"
      ]
    },
    {
      "cell_type": "code",
      "execution_count": 4,
      "metadata": {
        "colab": {
          "base_uri": "https://localhost:8080/"
        },
        "id": "DnGQH06nrrY9",
        "outputId": "11499c96-b8b9-45fa-971c-641cc3318dc6"
      },
      "outputs": [
        {
          "output_type": "stream",
          "name": "stdout",
          "text": [
            "enter a number :36\n",
            "The square root of 36.000 is 6.000\n"
          ]
        }
      ],
      "source": [
        "num=float(input(\"enter a number :\"))\n",
        "sqrt =num**0.5\n",
        "print('The square root of %0.3f is %0.3f'%(num ,sqrt))"
      ]
    },
    {
      "cell_type": "code",
      "source": [
        "x = 5\n",
        "y = 10\n",
        "\n",
        "temp = x\n",
        "x = y\n",
        "y = temp\n",
        "\n",
        "print('The value of x after swapping: {}'.format(x))\n",
        "print('The value of y after swapping: {}'.format(y))"
      ],
      "metadata": {
        "colab": {
          "base_uri": "https://localhost:8080/"
        },
        "id": "FahuESbTtcsC",
        "outputId": "e7a9b167-992c-417f-a10a-e959a97ea46e"
      },
      "execution_count": 6,
      "outputs": [
        {
          "output_type": "stream",
          "name": "stdout",
          "text": [
            "The value of x after swapping: 10\n",
            "The value of y after swapping: 5\n"
          ]
        }
      ]
    },
    {
      "cell_type": "code",
      "source": [
        "num=float(input(\"enter a number:\"))\n",
        "if num>0:\n",
        "    print(\"positive number\")\n",
        "elif num==0:\n",
        "    print(\"zero\")\n",
        "else:\n",
        "    print(\"negative number\")"
      ],
      "metadata": {
        "colab": {
          "base_uri": "https://localhost:8080/"
        },
        "id": "610Qbxrzt3T0",
        "outputId": "1b0d7d1a-0da7-43b3-d254-3c38682a8bbc"
      },
      "execution_count": 7,
      "outputs": [
        {
          "output_type": "stream",
          "name": "stdout",
          "text": [
            "enter a number:5\n",
            "positive number\n"
          ]
        }
      ]
    },
    {
      "cell_type": "code",
      "source": [
        "num=float(input(\"enter a number:\"))\n",
        "if num%2==0:\n",
        "  print(\"even number\")\n",
        "else:\n",
        "  print(\"odd number\")"
      ],
      "metadata": {
        "colab": {
          "base_uri": "https://localhost:8080/"
        },
        "id": "CeD3rk_-vxEp",
        "outputId": "6c2df84a-253b-4513-e2bb-c47a9d1c368a"
      },
      "execution_count": 8,
      "outputs": [
        {
          "output_type": "stream",
          "name": "stdout",
          "text": [
            "enter a number:32\n",
            "even number\n"
          ]
        }
      ]
    },
    {
      "cell_type": "code",
      "source": [
        "num=int(input(\"enter a number:\"))\n",
        "factorial = 1\n",
        "\n",
        "for i in range(1, num + 1):\n",
        "    factorial *= i\n",
        "\n",
        "print(\"Factorial of\", num, \"is\", factorial)"
      ],
      "metadata": {
        "colab": {
          "base_uri": "https://localhost:8080/"
        },
        "id": "JoWHXk-kx5lx",
        "outputId": "23e53de9-a857-4002-e45e-7a679ba4c53a"
      },
      "execution_count": 11,
      "outputs": [
        {
          "output_type": "stream",
          "name": "stdout",
          "text": [
            "enter a number:5\n",
            "Factorial of 5 is 120\n"
          ]
        }
      ]
    },
    {
      "cell_type": "code",
      "source": [
        "str='ahiha'\n",
        "str=str.casefold()\n",
        "rev_str=reversed(str)\n",
        "if list(str)==list(rev_str):\n",
        "  print(\"the string is palindrome\")\n",
        "else:\n",
        "  print(\"the string is not palindrome\")\n"
      ],
      "metadata": {
        "colab": {
          "base_uri": "https://localhost:8080/"
        },
        "id": "AZVDmCrry48F",
        "outputId": "5ee0a553-4447-4933-fd2d-32927fd2e0f6"
      },
      "execution_count": 13,
      "outputs": [
        {
          "output_type": "stream",
          "name": "stdout",
          "text": [
            "the string is palindrome\n"
          ]
        }
      ]
    },
    {
      "cell_type": "code",
      "source": [
        "import pandas as pd\n",
        "import numpy as np\n",
        "data={'Name' : ['ram' ,'bob' ,'alice'],\n",
        "      'Age' : ['25', '44', '13'],\n",
        "      'city' : ['london','paris','new york'] }\n",
        "df=pd.dataframe(data)"
      ],
      "metadata": {
        "id": "ySKmqtaK0AkI"
      },
      "execution_count": null,
      "outputs": []
    },
    {
      "cell_type": "code",
      "source": [],
      "metadata": {
        "id": "BAdjGB-H66Ke"
      },
      "execution_count": null,
      "outputs": []
    }
  ]
}